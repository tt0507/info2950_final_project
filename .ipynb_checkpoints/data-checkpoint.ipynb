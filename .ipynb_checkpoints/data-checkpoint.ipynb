{
 "cells": [
  {
   "cell_type": "markdown",
   "metadata": {
    "colab_type": "text",
    "id": "0lN7mvWS5Yvf"
   },
   "source": [
    "# Data Description"
   ]
  },
  {
   "cell_type": "markdown",
   "metadata": {
    "colab_type": "text",
    "id": "mRuO7b7I5Ys4"
   },
   "source": [
    "## What are the observations (rows) and the attributes (columns)?\n",
    "The data includes 157 observations that are identified as countries in the world. They are analyzed with attributes as follows: Country, Region, Happiness Rank, Happiness Score, Lower Confidence Interval, Upper Confidence Interval, Economy (GDP per capita), Family, Health (Life Expectancy), Freedom, Trust (Government Corruption), Generosity, and Dystopia Residual. These observations are taken from the year 2019 and 2018 as the data from 2017, 2016 and 2015 have different columns. "
   ]
  },
  {
   "cell_type": "markdown",
   "metadata": {
    "colab_type": "text",
    "id": "sqXallFO5YqD"
   },
   "source": [
    "## Why was this dataset created?\n",
    "\n",
    "The dataset was created in order to assess the well-beings of citizens of different countries and see the correlation with the progress of the nation. Though this started off as a celebration of International Day of Happiness, the report gained traction through the years (2012-present) and has become a reference for world leaders in the economics, public health, and policy area of their country. It helps assess what direction these countries are going toward, and its progress in its overall wellbeing/policies. "
   ]
  },
  {
   "cell_type": "markdown",
   "metadata": {
    "colab_type": "text",
    "id": "na7WYxa85Ym3"
   },
   "source": [
    "## Who funded the creation of the dataset?\n",
    "\n",
    "The world happiness data is published by the Sustainable Development Solutions Network at United Nations, and the data is primarily provided by Gallup World Poll."
   ]
  },
  {
   "cell_type": "markdown",
   "metadata": {
    "colab_type": "text",
    "id": "VwFe3Y9-5Yg6"
   },
   "source": [
    "## What processes might have influenced what data was observed and recorded and what was not?\n",
    "\n",
    "The world happiness data was created to make a ranking of national happiness for all countries. However, from the data we see that not all countries are included in the dataset. This may be due to situations such as war that makes surveying impossible to conduct. Other reasons may be government regulations, citizens unwilling to answer surveys, or not having enough samples to calculate a score."
   ]
  },
  {
   "cell_type": "markdown",
   "metadata": {
    "colab_type": "text",
    "id": "P6gGfs2O5Ydv"
   },
   "source": [
    "## What preprocessing was done, and how did the data come to be in the form that you are using?\n",
    "\n",
    "The dataset was taken from the GallupWorld Poll whose happiness scores were inspired by the United Nation. The World Happiness Report released by the United Nations ranks 155 countries, and this influenced the production of this dataset. Happiness reports have gained more recognition from the public as more government officials and different organizations use these observations to make certain decisions in economics, psychology, politics, and more. The initial process to determine the data to be observed most likely have been to define what happiness is. The attributes of happiness scores and rankings from this dataset were recorded using data from the Gallup World Poll, which are derived from answers to a life evaluation question known as Cantril ladder. People were asked this Cantril ladder question in a poll they took willingly--though it’s unclear if they knew what their polling results would be used. They were asked to rate their lives on a scale from 0 to 10, where 10 is the best possible life for them. Factors that may influence one’s well-being might have been determined to know what data to observe and record to measure happiness. The data observes mainly six factors - economic production, social support, life expectancy, freedom, absence of corruption, and generosity. Gallup weights were applied to the data that came from the Gallup World Poll, and then compared data to a “benchmark” imaginary country (“Dystopia”)) that had the lowest scores for the 6 major factors of happiness. All of the real country's data were used to compare against Dystopia for a consistent way of measuring the factors of happiness.\n",
    "\n",
    "The data for 2015, 2016, 2017, 2018, and 2019 had different number of rows and columns. The first preprocessing was to match all the columns of the data from each year. Since 2019 was the most recent one, the data was transformed to match the column names and order of the 2019 data. This preprocessing will allows us to conduce more accurate regression analysis as there will be more data and contatenating the data would be easier. The second preprocessing was to match the list of countries with the 2019 data. While scanning through the data we realized that each year had different number of countries within the data. Therefore, we created another dataset that deleted counries which were not in all datasets."
   ]
  },
  {
   "cell_type": "markdown",
   "metadata": {
    "colab_type": "text",
    "id": "1MtM4fuf5YJQ"
   },
   "source": [
    "## Data Source\n",
    "\n",
    "https://www.kaggle.com/unsdsn/world-happiness#2019.csv"
   ]
  },
  {
   "cell_type": "markdown",
   "metadata": {
    "colab_type": "text",
    "id": "NiUIeQpNX7Kl"
   },
   "source": [
    "**Potential Problems with Dataset**\n",
    "\n",
    "The dataset looks at various countries and their happiness in different years.\n",
    "Attribues (columns) are slightly different in different year databases. For example, some differences include: the order of columns may be different, certain column names are slightly changed, or some year databases are missing some attributes. "
   ]
  },
  {
   "cell_type": "code",
   "execution_count": 4,
   "metadata": {
    "colab": {},
    "colab_type": "code",
    "id": "bCAGa5n_JoOR"
   },
   "outputs": [],
   "source": [
    "import numpy as np\n",
    "import pandas as pd"
   ]
  },
  {
   "cell_type": "code",
   "execution_count": 5,
   "metadata": {
    "colab": {},
    "colab_type": "code",
    "id": "3UW_W5xLLjWX"
   },
   "outputs": [],
   "source": [
    "# import all data\n",
    "data_2019 = pd.read_csv('data/2019.csv')\n",
    "data_2018 = pd.read_csv('data/2018.csv')\n",
    "data_2017 = pd.read_csv('data/2017.csv')\n",
    "data_2016 = pd.read_csv('data/2016.csv')\n",
    "data_2015 = pd.read_csv('data/2015.csv')"
   ]
  },
  {
   "cell_type": "code",
   "execution_count": 6,
   "metadata": {
    "colab": {
     "base_uri": "https://localhost:8080/",
     "height": 459
    },
    "colab_type": "code",
    "id": "2vmVxU5xMZ6U",
    "outputId": "89ec7c03-6789-445c-8daf-8ab95dd18c0e"
   },
   "outputs": [
    {
     "name": "stdout",
     "output_type": "stream",
     "text": [
      "Index(['Overall rank', 'Country or region', 'Score', 'GDP per capita',\n",
      "       'Social support', 'Healthy life expectancy',\n",
      "       'Freedom to make life choices', 'Generosity',\n",
      "       'Perceptions of corruption'],\n",
      "      dtype='object')\n",
      "Index(['Overall rank', 'Country or region', 'Score', 'GDP per capita',\n",
      "       'Social support', 'Healthy life expectancy',\n",
      "       'Freedom to make life choices', 'Generosity',\n",
      "       'Perceptions of corruption'],\n",
      "      dtype='object')\n",
      "Index(['Country', 'Happiness.Rank', 'Happiness.Score', 'Whisker.high',\n",
      "       'Whisker.low', 'Economy..GDP.per.Capita.', 'Family',\n",
      "       'Health..Life.Expectancy.', 'Freedom', 'Generosity',\n",
      "       'Trust..Government.Corruption.', 'Dystopia.Residual'],\n",
      "      dtype='object')\n",
      "Index(['Country', 'Region', 'Happiness Rank', 'Happiness Score',\n",
      "       'Lower Confidence Interval', 'Upper Confidence Interval',\n",
      "       'Economy (GDP per Capita)', 'Family', 'Health (Life Expectancy)',\n",
      "       'Freedom', 'Trust (Government Corruption)', 'Generosity',\n",
      "       'Dystopia Residual'],\n",
      "      dtype='object')\n",
      "Index(['Country', 'Region', 'Happiness Rank', 'Happiness Score',\n",
      "       'Standard Error', 'Economy (GDP per Capita)', 'Family',\n",
      "       'Health (Life Expectancy)', 'Freedom', 'Trust (Government Corruption)',\n",
      "       'Generosity', 'Dystopia Residual'],\n",
      "      dtype='object')\n"
     ]
    }
   ],
   "source": [
    "# print out the columns for each dataset\n",
    "for x in [data_2019, data_2018, data_2017, data_2016, data_2015]:\n",
    "    print(x.columns)"
   ]
  },
  {
   "cell_type": "code",
   "execution_count": 7,
   "metadata": {
    "colab": {},
    "colab_type": "code",
    "id": "kkrBGW-XMvZk"
   },
   "outputs": [],
   "source": [
    "# Removes columns that were not in the 2019 version of the data to match the number of columns\n",
    "data_2017_updated = data_2017.drop(columns = ['Whisker.high', 'Whisker.low', 'Dystopia.Residual'])\n",
    "data_2016_updated = data_2016.drop(columns = ['Lower Confidence Interval', 'Upper Confidence Interval' ,'Region', 'Dystopia Residual'])\n",
    "data_2015_updated = data_2015.drop(columns = ['Standard Error', 'Region', 'Dystopia Residual'])"
   ]
  },
  {
   "cell_type": "code",
   "execution_count": 8,
   "metadata": {
    "colab": {},
    "colab_type": "code",
    "id": "LKKR_RI2ZDpc"
   },
   "outputs": [],
   "source": [
    "# renaming the columns to match 2019 data\n",
    "data_2017_updated = data_2017_updated.rename(columns = {'Happiness.Rank': 'Overall rank', 'Country':'Country or region', \\\n",
    "                                   'Happiness.Score': 'Score', 'Economy..GDP.per.Capita.':'GDP per capita', \\\n",
    "                                   'Family':'Social support', 'Health..Life.Expectancy.':'Healthy life expectancy', \\\n",
    "                                   'Freedom': 'Freedom to make life choices', \\\n",
    "                                   'Trust..Government.Corruption.': 'Perceptions of corruption'})\n",
    "data_2016_updated = data_2016_updated.rename(columns = {'Happiness Rank': 'Overall rank', 'Country':'Country or region', \\\n",
    "                                   'Happiness Score': 'Score', 'Economy (GDP per Capita)':'GDP per capita', \\\n",
    "                                   'Family':'Social support', 'Health (Life Expectancy)':'Healthy life expectancy', \\\n",
    "                                   'Freedom': 'Freedom to make life choices', \\\n",
    "                                    'Trust (Government Corruption)': 'Perceptions of corruption'})\n",
    "data_2015_updated = data_2015_updated.rename(columns = {'Happiness Rank': 'Overall rank', 'Country':'Country or region', \\\n",
    "                                   'Happiness Score': 'Score', 'Economy (GDP per Capita)':'GDP per capita', \\\n",
    "                                   'Family':'Social support', 'Health (Life Expectancy)':'Healthy life expectancy', \\\n",
    "                                   'Freedom': 'Freedom to make life choices', \\\n",
    "                                    'Trust (Government Corruption)': 'Perceptions of corruption'})"
   ]
  },
  {
   "cell_type": "code",
   "execution_count": 9,
   "metadata": {
    "colab": {},
    "colab_type": "code",
    "id": "ZRWJwC2AZMi3"
   },
   "outputs": [],
   "source": [
    "# re-order columns to match 2019 data\n",
    "data_2017_updated = data_2017_updated.reindex(columns = data_2019.columns)\n",
    "data_2016_updated = data_2016_updated.reindex(columns = data_2019.columns)\n",
    "data_2015_updated = data_2015_updated.reindex(columns = data_2019.columns)"
   ]
  },
  {
   "cell_type": "markdown",
   "metadata": {
    "colab_type": "text",
    "id": "zCyS6ptB6jnK"
   },
   "source": [
    "Now we check if all rankings have the same countries."
   ]
  },
  {
   "cell_type": "code",
   "execution_count": 10,
   "metadata": {
    "colab": {},
    "colab_type": "code",
    "id": "bj4BsidKZP_z"
   },
   "outputs": [],
   "source": [
    "def check_missing(data1, data2):\n",
    "    \"\"\"\n",
    "    Checks if counries in data1 are in data2\n",
    "    \n",
    "    Returns a list of countries not in data2\n",
    "    \"\"\"\n",
    "    check_isin = data1['Country or region'].isin(data2['Country or region'])\n",
    "\n",
    "    row = []\n",
    "    for x in range(len(check_isin)):\n",
    "        if check_isin[x] == False:\n",
    "            row.append(x)\n",
    "\n",
    "    country_list = []\n",
    "    for x in row:\n",
    "        country_list.append(data1['Country or region'][x])\n",
    "        \n",
    "    country_list.sort()\n",
    "        \n",
    "    return country_list"
   ]
  },
  {
   "cell_type": "code",
   "execution_count": 11,
   "metadata": {
    "colab": {},
    "colab_type": "code",
    "id": "QO9GtKVm6nvV"
   },
   "outputs": [],
   "source": [
    "def combine_find_unique(arr1, arr2, arr3, arr4):\n",
    "    \"\"\"\n",
    "    Finds the unique elements within the parameter\n",
    "    \"\"\"\n",
    "    arr1_np = np.array(arr1)\n",
    "    arr2_np = np.array(arr2)\n",
    "    arr3_np = np.array(arr3)\n",
    "    arr4_np = np.array(arr4)\n",
    "    \n",
    "    concat = np.concatenate((arr1, arr2, arr3, arr4))\n",
    "    \n",
    "    return np.unique(concat)"
   ]
  },
  {
   "cell_type": "markdown",
   "metadata": {
    "colab_type": "text",
    "id": "PdNrZ3X66qHE"
   },
   "source": [
    "We get the list of countries not in 2019 data but are in othere dataset."
   ]
  },
  {
   "cell_type": "code",
   "execution_count": 12,
   "metadata": {
    "colab": {
     "base_uri": "https://localhost:8080/",
     "height": 85
    },
    "colab_type": "code",
    "id": "wZAHWHbj6nlr",
    "outputId": "9d7958a8-fa72-4e86-f741-d37c6aa41210"
   },
   "outputs": [
    {
     "name": "stdout",
     "output_type": "stream",
     "text": [
      "2015 vs 2019: ['Angola', 'Djibouti', 'Macedonia', 'North Cyprus', 'Oman', 'Somaliland region', 'Sudan', 'Suriname', 'Trinidad and Tobago']\n",
      "2016 vs 2019: ['Angola', 'Belize', 'Macedonia', 'North Cyprus', 'Puerto Rico', 'Somaliland Region', 'Sudan', 'Suriname', 'Trinidad and Tobago']\n",
      "2017 vs 2019: ['Angola', 'Belize', 'Hong Kong S.A.R., China', 'Macedonia', 'North Cyprus', 'Sudan', 'Taiwan Province of China', 'Trinidad and Tobago']\n",
      "2018 vs 2019: ['Angola', 'Belize', 'Macedonia', 'Sudan']\n"
     ]
    }
   ],
   "source": [
    "print('2015 vs 2019:', check_missing(data_2015_updated, data_2019))\n",
    "print('2016 vs 2019:', check_missing(data_2016_updated, data_2019))\n",
    "print('2017 vs 2019:', check_missing(data_2017_updated, data_2019))\n",
    "print('2018 vs 2019:', check_missing(data_2018, data_2019))"
   ]
  },
  {
   "cell_type": "code",
   "execution_count": 13,
   "metadata": {
    "colab": {
     "base_uri": "https://localhost:8080/",
     "height": 85
    },
    "colab_type": "code",
    "id": "_MxDiAM36xpZ",
    "outputId": "3793b2fe-d388-4978-b34c-6f9fe6be8551"
   },
   "outputs": [
    {
     "data": {
      "text/plain": [
       "array(['Angola', 'Belize', 'Djibouti', 'Hong Kong S.A.R., China',\n",
       "       'Macedonia', 'North Cyprus', 'Oman', 'Puerto Rico',\n",
       "       'Somaliland Region', 'Somaliland region', 'Sudan', 'Suriname',\n",
       "       'Taiwan Province of China', 'Trinidad and Tobago'], dtype='<U24')"
      ]
     },
     "execution_count": 13,
     "metadata": {},
     "output_type": "execute_result"
    }
   ],
   "source": [
    "combine_find_unique(check_missing(data_2015_updated, data_2019), check_missing(data_2016_updated, data_2019), \\\n",
    "                   check_missing(data_2017_updated, data_2019), check_missing(data_2018, data_2019))"
   ]
  },
  {
   "cell_type": "markdown",
   "metadata": {
    "colab_type": "text",
    "id": "rjfnjN8r6ymm"
   },
   "source": [
    "We get the list of countries in 2019 but not in other dataset."
   ]
  },
  {
   "cell_type": "code",
   "execution_count": 14,
   "metadata": {
    "colab": {
     "base_uri": "https://localhost:8080/",
     "height": 85
    },
    "colab_type": "code",
    "id": "aFfZDH7M63Ly",
    "outputId": "6520a043-b3aa-4ff2-9b50-e30858a12370"
   },
   "outputs": [
    {
     "name": "stdout",
     "output_type": "stream",
     "text": [
      "2019 vs 2015: ['Gambia', 'Namibia', 'North Macedonia', 'Northern Cyprus', 'Somalia', 'South Sudan', 'Trinidad & Tobago']\n",
      "2019 vs 2016: ['Central African Republic', 'Gambia', 'Lesotho', 'Mozambique', 'North Macedonia', 'Northern Cyprus', 'Swaziland', 'Trinidad & Tobago']\n",
      "2019 vs 2017: ['Comoros', 'Gambia', 'Hong Kong', 'Laos', 'North Macedonia', 'Northern Cyprus', 'Swaziland', 'Taiwan', 'Trinidad & Tobago']\n",
      "2019 vs 2018: ['Comoros', 'Gambia', 'North Macedonia', 'Swaziland']\n"
     ]
    }
   ],
   "source": [
    "print('2019 vs 2015:', check_missing(data_2019, data_2015_updated))\n",
    "print('2019 vs 2016:', check_missing(data_2019, data_2016_updated))\n",
    "print('2019 vs 2017:', check_missing(data_2019, data_2017_updated))\n",
    "print('2019 vs 2018:', check_missing(data_2019, data_2018))"
   ]
  },
  {
   "cell_type": "code",
   "execution_count": 15,
   "metadata": {
    "colab": {
     "base_uri": "https://localhost:8080/",
     "height": 85
    },
    "colab_type": "code",
    "id": "DnFrPlTF7CV0",
    "outputId": "b4d24260-8e24-4c6a-fb00-a47d7657d329"
   },
   "outputs": [
    {
     "data": {
      "text/plain": [
       "array(['Central African Republic', 'Comoros', 'Gambia', 'Hong Kong',\n",
       "       'Laos', 'Lesotho', 'Mozambique', 'Namibia', 'North Macedonia',\n",
       "       'Northern Cyprus', 'Somalia', 'South Sudan', 'Swaziland', 'Taiwan',\n",
       "       'Trinidad & Tobago'], dtype='<U24')"
      ]
     },
     "execution_count": 15,
     "metadata": {},
     "output_type": "execute_result"
    }
   ],
   "source": [
    "combine_find_unique(check_missing(data_2019, data_2015_updated), check_missing(data_2019, data_2016_updated), \\\n",
    "                   check_missing(data_2019, data_2017_updated), check_missing(data_2019, data_2018))"
   ]
  },
  {
   "cell_type": "markdown",
   "metadata": {
    "colab_type": "text",
    "id": "ACDtO2DZ7Dz4"
   },
   "source": [
    "From the list of country names, we deduce the following are the same country:\n",
    " * Trinidad & Tobago and Trinidad and Tobago\n",
    " * North Macedonia and Macedonia\n",
    " * Northern Cyprus and North Cyprus\n",
    " * Hong Kong S.A.R., China and Hong Kong\n",
    " * Taiwan Province of China and Taiwan"
   ]
  },
  {
   "cell_type": "code",
   "execution_count": 16,
   "metadata": {
    "colab": {},
    "colab_type": "code",
    "id": "r6ggVWhV7DfT"
   },
   "outputs": [],
   "source": [
    "# Updated to Trinidad & Tobago\n",
    "data_2015_updated.loc[data_2015_updated['Country or region'] == 'Trinidad and Tobago', 'Country or region'] \\\n",
    "    = 'Trinidad & Tobago'\n",
    "data_2016_updated.loc[data_2016_updated['Country or region'] == 'Trinidad and Tobago', 'Country or region'] \\\n",
    "    = 'Trinidad & Tobago'\n",
    "data_2017_updated.loc[data_2017_updated['Country or region'] == 'Trinidad and Tobago', 'Country or region'] \\\n",
    "    = 'Trinidad & Tobago'"
   ]
  },
  {
   "cell_type": "code",
   "execution_count": 17,
   "metadata": {
    "colab": {},
    "colab_type": "code",
    "id": "xtwDnzyG7KUr"
   },
   "outputs": [],
   "source": [
    "# Update to North Macedonia\n",
    "data_2015_updated.loc[data_2015_updated['Country or region'] == 'Macedonia', 'Country or region'] \\\n",
    "    = 'North Macedonia'\n",
    "data_2016_updated.loc[data_2016_updated['Country or region'] == 'Macedonia', 'Country or region'] \\\n",
    "    = 'North Macedonia'\n",
    "data_2017_updated.loc[data_2017_updated['Country or region'] == 'Macedonia', 'Country or region'] \\\n",
    "    = 'North Macedonia'\n",
    "data_2018.loc[data_2018['Country or region'] == 'Macedonia', 'Country or region'] \\\n",
    "    = 'North Macedonia'"
   ]
  },
  {
   "cell_type": "code",
   "execution_count": 18,
   "metadata": {
    "colab": {},
    "colab_type": "code",
    "id": "eSk_UAGT7JvO"
   },
   "outputs": [],
   "source": [
    "# Update to Northern Cyprus\n",
    "data_2015_updated.loc[data_2015_updated['Country or region'] == 'North Cyprus', 'Country or region'] \\\n",
    "    = 'Northern Cyprus'\n",
    "data_2016_updated.loc[data_2016_updated['Country or region'] == 'North Cyprus', 'Country or region'] \\\n",
    "    = 'Northern Cyprus'\n",
    "data_2017_updated.loc[data_2017_updated['Country or region'] == 'North Cyprus', 'Country or region'] \\\n",
    "    = 'Northern Cyprus'"
   ]
  },
  {
   "cell_type": "code",
   "execution_count": 19,
   "metadata": {
    "colab": {},
    "colab_type": "code",
    "id": "KAlLbtjV7Qop"
   },
   "outputs": [],
   "source": [
    "# Update to Hong Kong\n",
    "data_2017_updated.loc[data_2017_updated['Country or region'] == 'Hong Kong S.A.R., China', 'Country or region'] \\\n",
    "    = 'Hong Kong'"
   ]
  },
  {
   "cell_type": "code",
   "execution_count": 20,
   "metadata": {
    "colab": {},
    "colab_type": "code",
    "id": "UpH7vi_87QYx"
   },
   "outputs": [],
   "source": [
    "# Update to Taiwan\n",
    "data_2017_updated.loc[data_2017_updated['Country or region'] == 'Taiwan Province of China', 'Country or region'] \\\n",
    "    = 'Taiwan'"
   ]
  },
  {
   "cell_type": "markdown",
   "metadata": {
    "colab_type": "text",
    "id": "lTebZdqq7Uz_"
   },
   "source": [
    "After editing countries that were the same but had different names, we get countries that are not in each dataset."
   ]
  },
  {
   "cell_type": "code",
   "execution_count": 21,
   "metadata": {
    "colab": {
     "base_uri": "https://localhost:8080/",
     "height": 85
    },
    "colab_type": "code",
    "id": "pGaiPpUe7aFd",
    "outputId": "dbe70ca7-3908-4be5-94ab-d893d79cb333"
   },
   "outputs": [
    {
     "name": "stdout",
     "output_type": "stream",
     "text": [
      "2015 vs 2019: ['Angola', 'Djibouti', 'Oman', 'Somaliland region', 'Sudan', 'Suriname']\n",
      "2016 vs 2019: ['Angola', 'Belize', 'Puerto Rico', 'Somaliland Region', 'Sudan', 'Suriname']\n",
      "2017 vs 2019: ['Angola', 'Belize', 'Sudan']\n",
      "2018 vs 2019: ['Angola', 'Belize', 'Sudan']\n"
     ]
    }
   ],
   "source": [
    "print('2015 vs 2019:', check_missing(data_2015_updated, data_2019))\n",
    "print('2016 vs 2019:', check_missing(data_2016_updated, data_2019))\n",
    "print('2017 vs 2019:', check_missing(data_2017_updated, data_2019))\n",
    "print('2018 vs 2019:', check_missing(data_2018, data_2019))"
   ]
  },
  {
   "cell_type": "code",
   "execution_count": 22,
   "metadata": {
    "colab": {
     "base_uri": "https://localhost:8080/",
     "height": 85
    },
    "colab_type": "code",
    "id": "KUAHECE97Z_U",
    "outputId": "a1217d15-5a97-4a68-a3e3-ae3cb8f8e27d"
   },
   "outputs": [
    {
     "name": "stdout",
     "output_type": "stream",
     "text": [
      "2019 vs 2015: ['Gambia', 'Namibia', 'Somalia', 'South Sudan']\n",
      "2019 vs 2016: ['Central African Republic', 'Gambia', 'Lesotho', 'Mozambique', 'Swaziland']\n",
      "2019 vs 2017: ['Comoros', 'Gambia', 'Laos', 'Swaziland']\n",
      "2019 vs 2018: ['Comoros', 'Gambia', 'Swaziland']\n"
     ]
    }
   ],
   "source": [
    "print('2019 vs 2015:', check_missing(data_2019, data_2015_updated))\n",
    "print('2019 vs 2016:', check_missing(data_2019, data_2016_updated))\n",
    "print('2019 vs 2017:', check_missing(data_2019, data_2017_updated))\n",
    "print('2019 vs 2018:', check_missing(data_2019, data_2018))"
   ]
  },
  {
   "cell_type": "code",
   "execution_count": 23,
   "metadata": {
    "colab": {
     "base_uri": "https://localhost:8080/",
     "height": 68
    },
    "colab_type": "code",
    "id": "rQfKg7J47Z6E",
    "outputId": "2458974d-cc79-47a4-a7a6-cfc2f0e4f98c"
   },
   "outputs": [
    {
     "data": {
      "text/plain": [
       "array(['Central African Republic', 'Comoros', 'Gambia', 'Laos', 'Lesotho',\n",
       "       'Mozambique', 'Namibia', 'Somalia', 'South Sudan', 'Swaziland'],\n",
       "      dtype='<U24')"
      ]
     },
     "execution_count": 23,
     "metadata": {},
     "output_type": "execute_result"
    }
   ],
   "source": [
    "combine_find_unique(check_missing(data_2019, data_2015_updated), check_missing(data_2019, data_2016_updated), \\\n",
    "                   check_missing(data_2019, data_2017_updated), check_missing(data_2019, data_2018))"
   ]
  },
  {
   "cell_type": "code",
   "execution_count": 24,
   "metadata": {
    "colab": {},
    "colab_type": "code",
    "id": "Q08HZ8mB7ZPs"
   },
   "outputs": [],
   "source": [
    "def country_list(data):\n",
    "    \"\"\"\n",
    "    Return all elements from 'Country or region' column\n",
    "    \"\"\"\n",
    "    country_list = []\n",
    "    \n",
    "    for country in data['Country or region']:\n",
    "        country_list.append(country)\n",
    "    \n",
    "    return country_list\n",
    "\n",
    "country_2019 = country_list(data_2019)\n",
    "country_2018 = country_list(data_2018)\n",
    "country_2017 = country_list(data_2017_updated)\n",
    "country_2016 = country_list(data_2016_updated)\n",
    "country_2015 = country_list(data_2015_updated)"
   ]
  },
  {
   "cell_type": "code",
   "execution_count": 25,
   "metadata": {
    "colab": {
     "base_uri": "https://localhost:8080/",
     "height": 34
    },
    "colab_type": "code",
    "id": "pr0qFfqM7kFU",
    "outputId": "ec7fe917-0ece-404c-c58a-80b10f5839fc"
   },
   "outputs": [
    {
     "name": "stdout",
     "output_type": "stream",
     "text": [
      "[134, 154, 104, 141, 111, 112, 143, 119, 122, 155]\n"
     ]
    }
   ],
   "source": [
    "# Find the countries that are in 2019 data but not in others.\n",
    "data_2019_id = []\n",
    "\n",
    "for country in country_2019:\n",
    "    if country not in country_2018:\n",
    "        data_2019_id.append(data_2019[data_2019['Country or region'] == country].index[0])\n",
    "    if country not in country_2017:\n",
    "        data_2019_id.append(data_2019[data_2019['Country or region'] == country].index[0])\n",
    "    if country not in country_2016:\n",
    "        data_2019_id.append(data_2019[data_2019['Country or region'] == country].index[0])\n",
    "    if country not in country_2015:\n",
    "        data_2019_id.append(data_2019[data_2019['Country or region'] == country].index[0])\n",
    "\n",
    "# Do list(set()) to remove duplicates from array\n",
    "data_2019_id_unique = list(set(data_2019_id))\n",
    "print(data_2019_id_unique)"
   ]
  },
  {
   "cell_type": "code",
   "execution_count": 26,
   "metadata": {
    "colab": {},
    "colab_type": "code",
    "id": "-ERopYzk7j8u"
   },
   "outputs": [],
   "source": [
    "data_2019_edited = data_2019.drop([134, 154, 104, 141, 111, 112, 143, 119, 122, 155])"
   ]
  },
  {
   "cell_type": "markdown",
   "metadata": {
    "colab_type": "text",
    "id": "tA4DpmvE7ovS"
   },
   "source": [
    "Similarly, we drop rows from 2015, 2016, 2017, and 2018 data that are not in 2019 data. "
   ]
  },
  {
   "cell_type": "code",
   "execution_count": 27,
   "metadata": {
    "colab": {},
    "colab_type": "code",
    "id": "Thvi28Cp7wEz"
   },
   "outputs": [],
   "source": [
    "# 2015 data\n",
    "index_2015 = []\n",
    "\n",
    "for val in check_missing(data_2015_updated, data_2019_edited):\n",
    "    row_num = data_2015_updated[data_2015_updated['Country or region'] == val].index[0]\n",
    "    index_2015.append(row_num)\n",
    "\n",
    "data_2015_edited = data_2015_updated.drop(index_2015)"
   ]
  },
  {
   "cell_type": "code",
   "execution_count": 28,
   "metadata": {
    "colab": {},
    "colab_type": "code",
    "id": "i9wcs4ew7v-9"
   },
   "outputs": [],
   "source": [
    "# 2016 data\n",
    "index_2016 = []\n",
    "\n",
    "for val in check_missing(data_2016_updated, data_2019_edited):\n",
    "    row_num = data_2016_updated[data_2016_updated['Country or region'] == val].index[0]\n",
    "    index_2016.append(row_num)\n",
    "\n",
    "data_2016_edited = data_2016_updated.drop(index_2016)"
   ]
  },
  {
   "cell_type": "code",
   "execution_count": 29,
   "metadata": {
    "colab": {},
    "colab_type": "code",
    "id": "BgVTjiNi7v3y"
   },
   "outputs": [],
   "source": [
    "# 2017 data\n",
    "index_2017 = []\n",
    "\n",
    "for val in check_missing(data_2017_updated, data_2019_edited):\n",
    "    row_num = data_2017_updated[data_2017_updated['Country or region'] == val].index[0]\n",
    "    index_2017.append(row_num)\n",
    "\n",
    "data_2017_edited = data_2017_updated.drop(index_2017)"
   ]
  },
  {
   "cell_type": "code",
   "execution_count": 30,
   "metadata": {
    "colab": {},
    "colab_type": "code",
    "id": "IFt_XiR67vw-"
   },
   "outputs": [],
   "source": [
    "# 2018 data\n",
    "index_2018 = []\n",
    "\n",
    "for val in check_missing(data_2018, data_2019_edited):\n",
    "    row_num = data_2018[data_2018['Country or region'] == val].index[0]\n",
    "    index_2018.append(row_num)\n",
    "\n",
    "data_2018_edited = data_2018.drop(index_2018)"
   ]
  },
  {
   "cell_type": "code",
   "execution_count": 31,
   "metadata": {
    "colab": {},
    "colab_type": "code",
    "id": "AISuJ9ZC7vpv"
   },
   "outputs": [],
   "source": [
    "# rearrange the index of rows from 0 to 145\n",
    "data_2015_edited.index = range(146)\n",
    "data_2016_edited.index = range(146)\n",
    "data_2017_edited.index = range(146)\n",
    "data_2018_edited.index = range(146)\n",
    "data_2019_edited.index = range(146)"
   ]
  },
  {
   "cell_type": "markdown",
   "metadata": {
    "colab_type": "text",
    "id": "tjIOD3Ci78vL"
   },
   "source": [
    "The following variables(data) have the same column but have different countries(row):\n",
    "* data_2015_updated\n",
    "* data_2016_updated\n",
    "* data_2017_updated\n",
    "* data_2018\n",
    "* data_2019"
   ]
  },
  {
   "cell_type": "markdown",
   "metadata": {
    "colab_type": "text",
    "id": "FpjWxodf78is"
   },
   "source": [
    "The following data/variables have the same column and the same countries(row):\n",
    "* data_2015_edited\n",
    "* data_2016_edited\n",
    "* data_2017_edited\n",
    "* data_2018_edited\n",
    "* data_2019_edited"
   ]
  },
  {
   "cell_type": "markdown",
   "metadata": {},
   "source": [
    "Concatenate data_2015_updated, data_2016_updated, data_2017_updated, data_2018 and data_2019 to conduce regression analysis."
   ]
  },
  {
   "cell_type": "code",
   "execution_count": 33,
   "metadata": {},
   "outputs": [
    {
     "data": {
      "text/html": [
       "<div>\n",
       "<style scoped>\n",
       "    .dataframe tbody tr th:only-of-type {\n",
       "        vertical-align: middle;\n",
       "    }\n",
       "\n",
       "    .dataframe tbody tr th {\n",
       "        vertical-align: top;\n",
       "    }\n",
       "\n",
       "    .dataframe thead th {\n",
       "        text-align: right;\n",
       "    }\n",
       "</style>\n",
       "<table border=\"1\" class=\"dataframe\">\n",
       "  <thead>\n",
       "    <tr style=\"text-align: right;\">\n",
       "      <th></th>\n",
       "      <th>Overall rank</th>\n",
       "      <th>Country or region</th>\n",
       "      <th>Score</th>\n",
       "      <th>GDP per capita</th>\n",
       "      <th>Social support</th>\n",
       "      <th>Healthy life expectancy</th>\n",
       "      <th>Freedom to make life choices</th>\n",
       "      <th>Generosity</th>\n",
       "      <th>Perceptions of corruption</th>\n",
       "    </tr>\n",
       "  </thead>\n",
       "  <tbody>\n",
       "    <tr>\n",
       "      <th>0</th>\n",
       "      <td>1</td>\n",
       "      <td>Switzerland</td>\n",
       "      <td>7.587</td>\n",
       "      <td>1.39651</td>\n",
       "      <td>1.34951</td>\n",
       "      <td>0.94143</td>\n",
       "      <td>0.66557</td>\n",
       "      <td>0.29678</td>\n",
       "      <td>0.41978</td>\n",
       "    </tr>\n",
       "    <tr>\n",
       "      <th>1</th>\n",
       "      <td>2</td>\n",
       "      <td>Iceland</td>\n",
       "      <td>7.561</td>\n",
       "      <td>1.30232</td>\n",
       "      <td>1.40223</td>\n",
       "      <td>0.94784</td>\n",
       "      <td>0.62877</td>\n",
       "      <td>0.43630</td>\n",
       "      <td>0.14145</td>\n",
       "    </tr>\n",
       "    <tr>\n",
       "      <th>2</th>\n",
       "      <td>3</td>\n",
       "      <td>Denmark</td>\n",
       "      <td>7.527</td>\n",
       "      <td>1.32548</td>\n",
       "      <td>1.36058</td>\n",
       "      <td>0.87464</td>\n",
       "      <td>0.64938</td>\n",
       "      <td>0.34139</td>\n",
       "      <td>0.48357</td>\n",
       "    </tr>\n",
       "    <tr>\n",
       "      <th>3</th>\n",
       "      <td>4</td>\n",
       "      <td>Norway</td>\n",
       "      <td>7.522</td>\n",
       "      <td>1.45900</td>\n",
       "      <td>1.33095</td>\n",
       "      <td>0.88521</td>\n",
       "      <td>0.66973</td>\n",
       "      <td>0.34699</td>\n",
       "      <td>0.36503</td>\n",
       "    </tr>\n",
       "    <tr>\n",
       "      <th>4</th>\n",
       "      <td>5</td>\n",
       "      <td>Canada</td>\n",
       "      <td>7.427</td>\n",
       "      <td>1.32629</td>\n",
       "      <td>1.32261</td>\n",
       "      <td>0.90563</td>\n",
       "      <td>0.63297</td>\n",
       "      <td>0.45811</td>\n",
       "      <td>0.32957</td>\n",
       "    </tr>\n",
       "  </tbody>\n",
       "</table>\n",
       "</div>"
      ],
      "text/plain": [
       "   Overall rank Country or region  Score  GDP per capita  Social support  \\\n",
       "0             1       Switzerland  7.587         1.39651         1.34951   \n",
       "1             2           Iceland  7.561         1.30232         1.40223   \n",
       "2             3           Denmark  7.527         1.32548         1.36058   \n",
       "3             4            Norway  7.522         1.45900         1.33095   \n",
       "4             5            Canada  7.427         1.32629         1.32261   \n",
       "\n",
       "   Healthy life expectancy  Freedom to make life choices  Generosity  \\\n",
       "0                  0.94143                       0.66557     0.29678   \n",
       "1                  0.94784                       0.62877     0.43630   \n",
       "2                  0.87464                       0.64938     0.34139   \n",
       "3                  0.88521                       0.66973     0.34699   \n",
       "4                  0.90563                       0.63297     0.45811   \n",
       "\n",
       "   Perceptions of corruption  \n",
       "0                    0.41978  \n",
       "1                    0.14145  \n",
       "2                    0.48357  \n",
       "3                    0.36503  \n",
       "4                    0.32957  "
      ]
     },
     "execution_count": 33,
     "metadata": {},
     "output_type": "execute_result"
    }
   ],
   "source": [
    "concat_data = pd.concat([data_2015_updated, data_2016_updated, data_2017_updated, data_2018, data_2019])\n",
    "concat_data.head()"
   ]
  },
  {
   "cell_type": "markdown",
   "metadata": {},
   "source": [
    "Create column above_10 which has binary values. True if country is ranked above 10 and false if not. "
   ]
  },
  {
   "cell_type": "code",
   "execution_count": 36,
   "metadata": {},
   "outputs": [],
   "source": [
    "above_10 = []\n",
    "\n",
    "for rank in concat_data['Overall rank']:\n",
    "    if rank <= 10:\n",
    "        above_10.append(1)\n",
    "    else:\n",
    "        above_10.append(0)"
   ]
  },
  {
   "cell_type": "code",
   "execution_count": 37,
   "metadata": {},
   "outputs": [
    {
     "data": {
      "text/html": [
       "<div>\n",
       "<style scoped>\n",
       "    .dataframe tbody tr th:only-of-type {\n",
       "        vertical-align: middle;\n",
       "    }\n",
       "\n",
       "    .dataframe tbody tr th {\n",
       "        vertical-align: top;\n",
       "    }\n",
       "\n",
       "    .dataframe thead th {\n",
       "        text-align: right;\n",
       "    }\n",
       "</style>\n",
       "<table border=\"1\" class=\"dataframe\">\n",
       "  <thead>\n",
       "    <tr style=\"text-align: right;\">\n",
       "      <th></th>\n",
       "      <th>Overall rank</th>\n",
       "      <th>Country or region</th>\n",
       "      <th>Score</th>\n",
       "      <th>GDP per capita</th>\n",
       "      <th>Social support</th>\n",
       "      <th>Healthy life expectancy</th>\n",
       "      <th>Freedom to make life choices</th>\n",
       "      <th>Generosity</th>\n",
       "      <th>Perceptions of corruption</th>\n",
       "      <th>above_10</th>\n",
       "    </tr>\n",
       "  </thead>\n",
       "  <tbody>\n",
       "    <tr>\n",
       "      <th>0</th>\n",
       "      <td>1</td>\n",
       "      <td>Switzerland</td>\n",
       "      <td>7.587</td>\n",
       "      <td>1.39651</td>\n",
       "      <td>1.34951</td>\n",
       "      <td>0.94143</td>\n",
       "      <td>0.66557</td>\n",
       "      <td>0.29678</td>\n",
       "      <td>0.41978</td>\n",
       "      <td>1</td>\n",
       "    </tr>\n",
       "    <tr>\n",
       "      <th>1</th>\n",
       "      <td>2</td>\n",
       "      <td>Iceland</td>\n",
       "      <td>7.561</td>\n",
       "      <td>1.30232</td>\n",
       "      <td>1.40223</td>\n",
       "      <td>0.94784</td>\n",
       "      <td>0.62877</td>\n",
       "      <td>0.43630</td>\n",
       "      <td>0.14145</td>\n",
       "      <td>1</td>\n",
       "    </tr>\n",
       "    <tr>\n",
       "      <th>2</th>\n",
       "      <td>3</td>\n",
       "      <td>Denmark</td>\n",
       "      <td>7.527</td>\n",
       "      <td>1.32548</td>\n",
       "      <td>1.36058</td>\n",
       "      <td>0.87464</td>\n",
       "      <td>0.64938</td>\n",
       "      <td>0.34139</td>\n",
       "      <td>0.48357</td>\n",
       "      <td>1</td>\n",
       "    </tr>\n",
       "    <tr>\n",
       "      <th>3</th>\n",
       "      <td>4</td>\n",
       "      <td>Norway</td>\n",
       "      <td>7.522</td>\n",
       "      <td>1.45900</td>\n",
       "      <td>1.33095</td>\n",
       "      <td>0.88521</td>\n",
       "      <td>0.66973</td>\n",
       "      <td>0.34699</td>\n",
       "      <td>0.36503</td>\n",
       "      <td>1</td>\n",
       "    </tr>\n",
       "    <tr>\n",
       "      <th>4</th>\n",
       "      <td>5</td>\n",
       "      <td>Canada</td>\n",
       "      <td>7.427</td>\n",
       "      <td>1.32629</td>\n",
       "      <td>1.32261</td>\n",
       "      <td>0.90563</td>\n",
       "      <td>0.63297</td>\n",
       "      <td>0.45811</td>\n",
       "      <td>0.32957</td>\n",
       "      <td>1</td>\n",
       "    </tr>\n",
       "  </tbody>\n",
       "</table>\n",
       "</div>"
      ],
      "text/plain": [
       "   Overall rank Country or region  Score  GDP per capita  Social support  \\\n",
       "0             1       Switzerland  7.587         1.39651         1.34951   \n",
       "1             2           Iceland  7.561         1.30232         1.40223   \n",
       "2             3           Denmark  7.527         1.32548         1.36058   \n",
       "3             4            Norway  7.522         1.45900         1.33095   \n",
       "4             5            Canada  7.427         1.32629         1.32261   \n",
       "\n",
       "   Healthy life expectancy  Freedom to make life choices  Generosity  \\\n",
       "0                  0.94143                       0.66557     0.29678   \n",
       "1                  0.94784                       0.62877     0.43630   \n",
       "2                  0.87464                       0.64938     0.34139   \n",
       "3                  0.88521                       0.66973     0.34699   \n",
       "4                  0.90563                       0.63297     0.45811   \n",
       "\n",
       "   Perceptions of corruption  above_10  \n",
       "0                    0.41978         1  \n",
       "1                    0.14145         1  \n",
       "2                    0.48357         1  \n",
       "3                    0.36503         1  \n",
       "4                    0.32957         1  "
      ]
     },
     "execution_count": 37,
     "metadata": {},
     "output_type": "execute_result"
    }
   ],
   "source": [
    "concat_data['above_10'] = above_10\n",
    "concat_data.head()"
   ]
  },
  {
   "cell_type": "code",
   "execution_count": 40,
   "metadata": {},
   "outputs": [],
   "source": [
    "concat_data.to_csv('concat_data.csv', index=False)"
   ]
  }
 ],
 "metadata": {
  "colab": {
   "collapsed_sections": [],
   "name": "data.ipynb",
   "provenance": []
  },
  "kernelspec": {
   "display_name": "Python 3",
   "language": "python",
   "name": "python3"
  },
  "language_info": {
   "codemirror_mode": {
    "name": "ipython",
    "version": 3
   },
   "file_extension": ".py",
   "mimetype": "text/x-python",
   "name": "python",
   "nbconvert_exporter": "python",
   "pygments_lexer": "ipython3",
   "version": "3.8.0"
  }
 },
 "nbformat": 4,
 "nbformat_minor": 1
}
