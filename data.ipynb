{
  "nbformat": 4,
  "nbformat_minor": 0,
  "metadata": {
    "colab": {
      "name": "data.ipynb",
      "provenance": [],
      "collapsed_sections": []
    },
    "kernelspec": {
      "name": "python3",
      "display_name": "Python 3"
    }
  },
  "cells": [
    {
      "cell_type": "markdown",
      "metadata": {
        "id": "0lN7mvWS5Yvf",
        "colab_type": "text"
      },
      "source": [
        "# Data Description"
      ]
    },
    {
      "cell_type": "markdown",
      "metadata": {
        "id": "mRuO7b7I5Ys4",
        "colab_type": "text"
      },
      "source": [
        "## What are the observations (rows) and the attributes (columns)?\n",
        "The data includes 157 observations that are identified as countries in the world. They are analyzed with attributes as follows: Country, Region, Happiness Rank, Happiness Score, Lower Confidence Interval, Upper Confidence Interval, Economy (GDP per capita), Family, Health (Life Expectancy), Freedom, Trust (Government Corruption), Generosity, and Dystopia Residual. These observations are taken from the year 2019 and 2018 as the data from 2017, 2016 and 2015 have different columns. "
      ]
    },
    {
      "cell_type": "markdown",
      "metadata": {
        "id": "sqXallFO5YqD",
        "colab_type": "text"
      },
      "source": [
        "## Why was this dataset created?\n",
        "\n",
        "The dataset was created in order to assess the well-beings of citizens of different countries and see the correlation with the progress of the nation. Though this started off as a celebration of International Day of Happiness, the report gained traction through the years (2012-present) and has become a reference for world leaders in the economics, public health, and policy area of their country. It helps assess what direction these countries are going toward, and its progress in its overall wellbeing/policies. "
      ]
    },
    {
      "cell_type": "markdown",
      "metadata": {
        "id": "na7WYxa85Ym3",
        "colab_type": "text"
      },
      "source": [
        "## Who funded the creation of the dataset?\n",
        "\n",
        "The world happiness data is published by the Sustainable Development Solutions Network at United Nations, and the data is primarily provided by Gallup World Poll."
      ]
    },
    {
      "cell_type": "markdown",
      "metadata": {
        "id": "VwFe3Y9-5Yg6",
        "colab_type": "text"
      },
      "source": [
        "## What processes might have influenced what data was observed and recorded and what was not?\n",
        "\n",
        "The world happiness data was created to make a ranking of national happiness for all countries. However, from the data we see that not all countries are included in the dataset. This may be due to situations such as war that makes surveying impossible to conduct. Other reasons may be government regulations, citizens unwilling to answer surveys, or not having enough samples to calculate a score."
      ]
    },
    {
      "cell_type": "markdown",
      "metadata": {
        "id": "P6gGfs2O5Ydv",
        "colab_type": "text"
      },
      "source": [
        "## What preprocessing was done, and how did the data come to be in the form that you are using?\n",
        "\n",
        "The dataset was taken from the GallupWorld Poll whose happiness scores were inspired by the United Nation. The World Happiness Report released by the United Nations ranks 155 countries, and this influenced the production of this dataset. Happiness reports have gained more recognition from the public as more government officials and different organizations use these observations to make certain decisions in economics, psychology, politics, and more. The initial process to determine the data to be observed most likely have been to define what happiness is. The attributes of happiness scores and rankings from this dataset were recorded using data from the Gallup World Poll, which are derived from answers to a life evaluation question known as Cantril ladder. People were asked this Cantril ladder question in a poll they took willingly--though it’s unclear if they knew what their polling results would be used. They were asked to rate their lives on a scale from 0 to 10, where 10 is the best possible life for them. Factors that may influence one’s well-being might have been determined to know what data to observe and record to measure happiness. The data observes mainly six factors - economic production, social support, life expectancy, freedom, absence of corruption, and generosity. Gallup weights were applied to the data that came from the Gallup World Poll, and then compared data to a “benchmark” imaginary country (“Dystopia”)) that had the lowest scores for the 6 major factors of happiness. All of the real country's data were used to compare against Dystopia for a consistent way of measuring the factors of happiness.\n",
        "\n",
        "The data for 2015, 2016, 2017, 2018, and 2019 had different number of rows and columns. The first preprocessing was to match all the columns of the data from each year. Since 2019 was the most recent one, the data was transformed to match the column names and order of the 2019 data. This preprocessing will allows us to conduce more accurate regression analysis as there will be more data and contatenating the data would be easier. The second preprocessing was to match the list of countries with the 2019 data. While scanning through the data we realized that each year had different number of countries within the data. Therefore, we created another dataset that deleted counries which were not in all datasets."
      ]
    },
    {
      "cell_type": "markdown",
      "metadata": {
        "id": "1MtM4fuf5YJQ",
        "colab_type": "text"
      },
      "source": [
        "## Data Source\n",
        "\n",
        "https://www.kaggle.com/unsdsn/world-happiness#2019.csv"
      ]
    },
    {
      "cell_type": "markdown",
      "metadata": {
        "id": "NiUIeQpNX7Kl",
        "colab_type": "text"
      },
      "source": [
        "**Potential Problems with Dataset**\n",
        "\n",
        "The dataset looks at various countries and their happiness in different years.\n",
        "Attribues (columns) are slightly different in different year databases. For example, some differences include: the order of columns may be different, certain column names are slightly changed, or some year databases are missing some attributes. "
      ]
    },
    {
      "cell_type": "code",
      "metadata": {
        "id": "bCAGa5n_JoOR",
        "colab_type": "code",
        "colab": {}
      },
      "source": [
        "import numpy as np\n",
        "import pandas as pd"
      ],
      "execution_count": 0,
      "outputs": []
    },
    {
      "cell_type": "code",
      "metadata": {
        "id": "3UW_W5xLLjWX",
        "colab_type": "code",
        "colab": {}
      },
      "source": [
        "# import all data\n",
        "data_2019 = pd.read_csv('2019.csv')\n",
        "data_2018 = pd.read_csv('2018.csv')\n",
        "data_2017 = pd.read_csv('2017.csv')\n",
        "data_2016 = pd.read_csv('2016.csv')\n",
        "data_2015 = pd.read_csv('2015.csv')"
      ],
      "execution_count": 0,
      "outputs": []
    },
    {
      "cell_type": "code",
      "metadata": {
        "id": "2vmVxU5xMZ6U",
        "colab_type": "code",
        "outputId": "89ec7c03-6789-445c-8daf-8ab95dd18c0e",
        "colab": {
          "base_uri": "https://localhost:8080/",
          "height": 459
        }
      },
      "source": [
        "# print out the columns for each dataset\n",
        "for x in [data_2019, data_2018, data_2017, data_2016, data_2015]:\n",
        "    print(x.columns)"
      ],
      "execution_count": 0,
      "outputs": [
        {
          "output_type": "stream",
          "text": [
            "Index(['Overall rank', 'Country or region', 'Score', 'GDP per capita',\n",
            "       'Social support', 'Healthy life expectancy',\n",
            "       'Freedom to make life choices', 'Generosity',\n",
            "       'Perceptions of corruption'],\n",
            "      dtype='object')\n",
            "Index(['Overall rank', 'Country or region', 'Score', 'GDP per capita',\n",
            "       'Social support', 'Healthy life expectancy',\n",
            "       'Freedom to make life choices', 'Generosity',\n",
            "       'Perceptions of corruption'],\n",
            "      dtype='object')\n",
            "Index(['Country', 'Happiness.Rank', 'Happiness.Score', 'Whisker.high',\n",
            "       'Whisker.low', 'Economy..GDP.per.Capita.', 'Family',\n",
            "       'Health..Life.Expectancy.', 'Freedom', 'Generosity',\n",
            "       'Trust..Government.Corruption.', 'Dystopia.Residual'],\n",
            "      dtype='object')\n",
            "Index(['Country', 'Region', 'Happiness Rank', 'Happiness Score',\n",
            "       'Lower Confidence Interval', 'Upper Confidence Interval',\n",
            "       'Economy (GDP per Capita)', 'Family', 'Health (Life Expectancy)',\n",
            "       'Freedom', 'Trust (Government Corruption)', 'Generosity',\n",
            "       'Dystopia Residual'],\n",
            "      dtype='object')\n",
            "Index(['Country', 'Region', 'Happiness Rank', 'Happiness Score',\n",
            "       'Standard Error', 'Economy (GDP per Capita)', 'Family',\n",
            "       'Health (Life Expectancy)', 'Freedom', 'Trust (Government Corruption)',\n",
            "       'Generosity', 'Dystopia Residual'],\n",
            "      dtype='object')\n"
          ],
          "name": "stdout"
        }
      ]
    },
    {
      "cell_type": "code",
      "metadata": {
        "id": "kkrBGW-XMvZk",
        "colab_type": "code",
        "colab": {}
      },
      "source": [
        "# Removes columns that were not in the 2019 version of the data to match the number of columns\n",
        "data_2017_updated = data_2017.drop(columns = ['Whisker.high', 'Whisker.low', 'Dystopia.Residual'])\n",
        "data_2016_updated = data_2016.drop(columns = ['Lower Confidence Interval', 'Upper Confidence Interval' ,'Region', 'Dystopia Residual'])\n",
        "data_2015_updated = data_2015.drop(columns = ['Standard Error', 'Region', 'Dystopia Residual'])"
      ],
      "execution_count": 0,
      "outputs": []
    },
    {
      "cell_type": "code",
      "metadata": {
        "id": "LKKR_RI2ZDpc",
        "colab_type": "code",
        "colab": {}
      },
      "source": [
        "# renaming the columns to match 2019 data\n",
        "data_2017_updated = data_2017_updated.rename(columns = {'Happiness.Rank': 'Overall rank', 'Country':'Country or region', \\\n",
        "                                   'Happiness.Score': 'Score', 'Economy..GDP.per.Capita.':'GDP per capita', \\\n",
        "                                   'Family':'Social support', 'Health..Life.Expectancy.':'Healthy life expectancy', \\\n",
        "                                   'Freedom': 'Freedom to make life choices', \\\n",
        "                                   'Trust..Government.Corruption.': 'Perceptions of corruption'})\n",
        "data_2016_updated = data_2016_updated.rename(columns = {'Happiness Rank': 'Overall rank', 'Country':'Country or region', \\\n",
        "                                   'Happiness Score': 'Score', 'Economy (GDP per Capita)':'GDP per capita', \\\n",
        "                                   'Family':'Social support', 'Health (Life Expectancy)':'Healthy life expectancy', \\\n",
        "                                   'Freedom': 'Freedom to make life choices', \\\n",
        "                                    'Trust (Government Corruption)': 'Perceptions of corruption'})\n",
        "data_2015_updated = data_2015_updated.rename(columns = {'Happiness Rank': 'Overall rank', 'Country':'Country or region', \\\n",
        "                                   'Happiness Score': 'Score', 'Economy (GDP per Capita)':'GDP per capita', \\\n",
        "                                   'Family':'Social support', 'Health (Life Expectancy)':'Healthy life expectancy', \\\n",
        "                                   'Freedom': 'Freedom to make life choices', \\\n",
        "                                    'Trust (Government Corruption)': 'Perceptions of corruption'})"
      ],
      "execution_count": 0,
      "outputs": []
    },
    {
      "cell_type": "code",
      "metadata": {
        "id": "ZRWJwC2AZMi3",
        "colab_type": "code",
        "colab": {}
      },
      "source": [
        "# re-order columns to match 2019 data\n",
        "data_2017_updated = data_2017_updated.reindex(columns = data_2019.columns)\n",
        "data_2016_updated = data_2016_updated.reindex(columns = data_2019.columns)\n",
        "data_2015_updated = data_2015_updated.reindex(columns = data_2019.columns)"
      ],
      "execution_count": 0,
      "outputs": []
    },
    {
      "cell_type": "markdown",
      "metadata": {
        "id": "zCyS6ptB6jnK",
        "colab_type": "text"
      },
      "source": [
        "Now we check if all rankings have the same countries."
      ]
    },
    {
      "cell_type": "code",
      "metadata": {
        "id": "bj4BsidKZP_z",
        "colab_type": "code",
        "colab": {}
      },
      "source": [
        "def check_missing(data1, data2):\n",
        "    \"\"\"\n",
        "    Checks if counries in data1 are in data2\n",
        "    \n",
        "    Returns a list of countries not in data2\n",
        "    \"\"\"\n",
        "    check_isin = data1['Country or region'].isin(data2['Country or region'])\n",
        "\n",
        "    row = []\n",
        "    for x in range(len(check_isin)):\n",
        "        if check_isin[x] == False:\n",
        "            row.append(x)\n",
        "\n",
        "    country_list = []\n",
        "    for x in row:\n",
        "        country_list.append(data1['Country or region'][x])\n",
        "        \n",
        "    country_list.sort()\n",
        "        \n",
        "    return country_list"
      ],
      "execution_count": 0,
      "outputs": []
    },
    {
      "cell_type": "code",
      "metadata": {
        "id": "QO9GtKVm6nvV",
        "colab_type": "code",
        "colab": {}
      },
      "source": [
        "def combine_find_unique(arr1, arr2, arr3, arr4):\n",
        "    \"\"\"\n",
        "    Finds the unique elements within the parameter\n",
        "    \"\"\"\n",
        "    arr1_np = np.array(arr1)\n",
        "    arr2_np = np.array(arr2)\n",
        "    arr3_np = np.array(arr3)\n",
        "    arr4_np = np.array(arr4)\n",
        "    \n",
        "    concat = np.concatenate((arr1, arr2, arr3, arr4))\n",
        "    \n",
        "    return np.unique(concat)"
      ],
      "execution_count": 0,
      "outputs": []
    },
    {
      "cell_type": "markdown",
      "metadata": {
        "id": "PdNrZ3X66qHE",
        "colab_type": "text"
      },
      "source": [
        "We get the list of countries not in 2019 data but are in othere dataset."
      ]
    },
    {
      "cell_type": "code",
      "metadata": {
        "id": "wZAHWHbj6nlr",
        "colab_type": "code",
        "outputId": "9d7958a8-fa72-4e86-f741-d37c6aa41210",
        "colab": {
          "base_uri": "https://localhost:8080/",
          "height": 85
        }
      },
      "source": [
        "print('2015 vs 2019:', check_missing(data_2015_updated, data_2019))\n",
        "print('2016 vs 2019:', check_missing(data_2016_updated, data_2019))\n",
        "print('2017 vs 2019:', check_missing(data_2017_updated, data_2019))\n",
        "print('2018 vs 2019:', check_missing(data_2018, data_2019))"
      ],
      "execution_count": 0,
      "outputs": [
        {
          "output_type": "stream",
          "text": [
            "2015 vs 2019: ['Angola', 'Djibouti', 'Macedonia', 'North Cyprus', 'Oman', 'Somaliland region', 'Sudan', 'Suriname', 'Trinidad and Tobago']\n",
            "2016 vs 2019: ['Angola', 'Belize', 'Macedonia', 'North Cyprus', 'Puerto Rico', 'Somaliland Region', 'Sudan', 'Suriname', 'Trinidad and Tobago']\n",
            "2017 vs 2019: ['Angola', 'Belize', 'Hong Kong S.A.R., China', 'Macedonia', 'North Cyprus', 'Sudan', 'Taiwan Province of China', 'Trinidad and Tobago']\n",
            "2018 vs 2019: ['Angola', 'Belize', 'Macedonia', 'Sudan']\n"
          ],
          "name": "stdout"
        }
      ]
    },
    {
      "cell_type": "code",
      "metadata": {
        "id": "_MxDiAM36xpZ",
        "colab_type": "code",
        "outputId": "3793b2fe-d388-4978-b34c-6f9fe6be8551",
        "colab": {
          "base_uri": "https://localhost:8080/",
          "height": 85
        }
      },
      "source": [
        "combine_find_unique(check_missing(data_2015_updated, data_2019), check_missing(data_2016_updated, data_2019), \\\n",
        "                   check_missing(data_2017_updated, data_2019), check_missing(data_2018, data_2019))"
      ],
      "execution_count": 0,
      "outputs": [
        {
          "output_type": "execute_result",
          "data": {
            "text/plain": [
              "array(['Angola', 'Belize', 'Djibouti', 'Hong Kong S.A.R., China',\n",
              "       'Macedonia', 'North Cyprus', 'Oman', 'Puerto Rico',\n",
              "       'Somaliland Region', 'Somaliland region', 'Sudan', 'Suriname',\n",
              "       'Taiwan Province of China', 'Trinidad and Tobago'], dtype='<U24')"
            ]
          },
          "metadata": {
            "tags": []
          },
          "execution_count": 13
        }
      ]
    },
    {
      "cell_type": "markdown",
      "metadata": {
        "id": "rjfnjN8r6ymm",
        "colab_type": "text"
      },
      "source": [
        "We get the list of countries in 2019 but not in other dataset."
      ]
    },
    {
      "cell_type": "code",
      "metadata": {
        "id": "aFfZDH7M63Ly",
        "colab_type": "code",
        "outputId": "6520a043-b3aa-4ff2-9b50-e30858a12370",
        "colab": {
          "base_uri": "https://localhost:8080/",
          "height": 85
        }
      },
      "source": [
        "print('2019 vs 2015:', check_missing(data_2019, data_2015_updated))\n",
        "print('2019 vs 2016:', check_missing(data_2019, data_2016_updated))\n",
        "print('2019 vs 2017:', check_missing(data_2019, data_2017_updated))\n",
        "print('2019 vs 2018:', check_missing(data_2019, data_2018))"
      ],
      "execution_count": 0,
      "outputs": [
        {
          "output_type": "stream",
          "text": [
            "2019 vs 2015: ['Gambia', 'Namibia', 'North Macedonia', 'Northern Cyprus', 'Somalia', 'South Sudan', 'Trinidad & Tobago']\n",
            "2019 vs 2016: ['Central African Republic', 'Gambia', 'Lesotho', 'Mozambique', 'North Macedonia', 'Northern Cyprus', 'Swaziland', 'Trinidad & Tobago']\n",
            "2019 vs 2017: ['Comoros', 'Gambia', 'Hong Kong', 'Laos', 'North Macedonia', 'Northern Cyprus', 'Swaziland', 'Taiwan', 'Trinidad & Tobago']\n",
            "2019 vs 2018: ['Comoros', 'Gambia', 'North Macedonia', 'Swaziland']\n"
          ],
          "name": "stdout"
        }
      ]
    },
    {
      "cell_type": "code",
      "metadata": {
        "id": "DnFrPlTF7CV0",
        "colab_type": "code",
        "outputId": "b4d24260-8e24-4c6a-fb00-a47d7657d329",
        "colab": {
          "base_uri": "https://localhost:8080/",
          "height": 85
        }
      },
      "source": [
        "combine_find_unique(check_missing(data_2019, data_2015_updated), check_missing(data_2019, data_2016_updated), \\\n",
        "                   check_missing(data_2019, data_2017_updated), check_missing(data_2019, data_2018))"
      ],
      "execution_count": 0,
      "outputs": [
        {
          "output_type": "execute_result",
          "data": {
            "text/plain": [
              "array(['Central African Republic', 'Comoros', 'Gambia', 'Hong Kong',\n",
              "       'Laos', 'Lesotho', 'Mozambique', 'Namibia', 'North Macedonia',\n",
              "       'Northern Cyprus', 'Somalia', 'South Sudan', 'Swaziland', 'Taiwan',\n",
              "       'Trinidad & Tobago'], dtype='<U24')"
            ]
          },
          "metadata": {
            "tags": []
          },
          "execution_count": 15
        }
      ]
    },
    {
      "cell_type": "markdown",
      "metadata": {
        "id": "ACDtO2DZ7Dz4",
        "colab_type": "text"
      },
      "source": [
        "From the list of country names, we deduce the following are the same country:\n",
        " * Trinidad & Tobago and Trinidad and Tobago\n",
        " * North Macedonia and Macedonia\n",
        " * Northern Cyprus and North Cyprus\n",
        " * Hong Kong S.A.R., China and Hong Kong\n",
        " * Taiwan Province of China and Taiwan"
      ]
    },
    {
      "cell_type": "code",
      "metadata": {
        "id": "r6ggVWhV7DfT",
        "colab_type": "code",
        "colab": {}
      },
      "source": [
        "# Updated to Trinidad & Tobago\n",
        "data_2015_updated.loc[data_2015_updated['Country or region'] == 'Trinidad and Tobago', 'Country or region'] \\\n",
        "    = 'Trinidad & Tobago'\n",
        "data_2016_updated.loc[data_2016_updated['Country or region'] == 'Trinidad and Tobago', 'Country or region'] \\\n",
        "    = 'Trinidad & Tobago'\n",
        "data_2017_updated.loc[data_2017_updated['Country or region'] == 'Trinidad and Tobago', 'Country or region'] \\\n",
        "    = 'Trinidad & Tobago'"
      ],
      "execution_count": 0,
      "outputs": []
    },
    {
      "cell_type": "code",
      "metadata": {
        "id": "xtwDnzyG7KUr",
        "colab_type": "code",
        "colab": {}
      },
      "source": [
        "# Update to North Macedonia\n",
        "data_2015_updated.loc[data_2015_updated['Country or region'] == 'Macedonia', 'Country or region'] \\\n",
        "    = 'North Macedonia'\n",
        "data_2016_updated.loc[data_2016_updated['Country or region'] == 'Macedonia', 'Country or region'] \\\n",
        "    = 'North Macedonia'\n",
        "data_2017_updated.loc[data_2017_updated['Country or region'] == 'Macedonia', 'Country or region'] \\\n",
        "    = 'North Macedonia'\n",
        "data_2018.loc[data_2018['Country or region'] == 'Macedonia', 'Country or region'] \\\n",
        "    = 'North Macedonia'"
      ],
      "execution_count": 0,
      "outputs": []
    },
    {
      "cell_type": "code",
      "metadata": {
        "id": "eSk_UAGT7JvO",
        "colab_type": "code",
        "colab": {}
      },
      "source": [
        "# Update to Northern Cyprus\n",
        "data_2015_updated.loc[data_2015_updated['Country or region'] == 'North Cyprus', 'Country or region'] \\\n",
        "    = 'Northern Cyprus'\n",
        "data_2016_updated.loc[data_2016_updated['Country or region'] == 'North Cyprus', 'Country or region'] \\\n",
        "    = 'Northern Cyprus'\n",
        "data_2017_updated.loc[data_2017_updated['Country or region'] == 'North Cyprus', 'Country or region'] \\\n",
        "    = 'Northern Cyprus'"
      ],
      "execution_count": 0,
      "outputs": []
    },
    {
      "cell_type": "code",
      "metadata": {
        "id": "KAlLbtjV7Qop",
        "colab_type": "code",
        "colab": {}
      },
      "source": [
        "# Update to Hong Kong\n",
        "data_2017_updated.loc[data_2017_updated['Country or region'] == 'Hong Kong S.A.R., China', 'Country or region'] \\\n",
        "    = 'Hong Kong'"
      ],
      "execution_count": 0,
      "outputs": []
    },
    {
      "cell_type": "code",
      "metadata": {
        "id": "UpH7vi_87QYx",
        "colab_type": "code",
        "colab": {}
      },
      "source": [
        "# Update to Taiwan\n",
        "data_2017_updated.loc[data_2017_updated['Country or region'] == 'Taiwan Province of China', 'Country or region'] \\\n",
        "    = 'Taiwan'"
      ],
      "execution_count": 0,
      "outputs": []
    },
    {
      "cell_type": "markdown",
      "metadata": {
        "id": "lTebZdqq7Uz_",
        "colab_type": "text"
      },
      "source": [
        "After editing countries that were the same but had different names, we get countries that are not in each dataset."
      ]
    },
    {
      "cell_type": "code",
      "metadata": {
        "id": "pGaiPpUe7aFd",
        "colab_type": "code",
        "outputId": "dbe70ca7-3908-4be5-94ab-d893d79cb333",
        "colab": {
          "base_uri": "https://localhost:8080/",
          "height": 85
        }
      },
      "source": [
        "print('2015 vs 2019:', check_missing(data_2015_updated, data_2019))\n",
        "print('2016 vs 2019:', check_missing(data_2016_updated, data_2019))\n",
        "print('2017 vs 2019:', check_missing(data_2017_updated, data_2019))\n",
        "print('2018 vs 2019:', check_missing(data_2018, data_2019))"
      ],
      "execution_count": 0,
      "outputs": [
        {
          "output_type": "stream",
          "text": [
            "2015 vs 2019: ['Angola', 'Djibouti', 'Oman', 'Somaliland region', 'Sudan', 'Suriname']\n",
            "2016 vs 2019: ['Angola', 'Belize', 'Puerto Rico', 'Somaliland Region', 'Sudan', 'Suriname']\n",
            "2017 vs 2019: ['Angola', 'Belize', 'Sudan']\n",
            "2018 vs 2019: ['Angola', 'Belize', 'Sudan']\n"
          ],
          "name": "stdout"
        }
      ]
    },
    {
      "cell_type": "code",
      "metadata": {
        "id": "KUAHECE97Z_U",
        "colab_type": "code",
        "outputId": "a1217d15-5a97-4a68-a3e3-ae3cb8f8e27d",
        "colab": {
          "base_uri": "https://localhost:8080/",
          "height": 85
        }
      },
      "source": [
        "print('2019 vs 2015:', check_missing(data_2019, data_2015_updated))\n",
        "print('2019 vs 2016:', check_missing(data_2019, data_2016_updated))\n",
        "print('2019 vs 2017:', check_missing(data_2019, data_2017_updated))\n",
        "print('2019 vs 2018:', check_missing(data_2019, data_2018))"
      ],
      "execution_count": 0,
      "outputs": [
        {
          "output_type": "stream",
          "text": [
            "2019 vs 2015: ['Gambia', 'Namibia', 'Somalia', 'South Sudan']\n",
            "2019 vs 2016: ['Central African Republic', 'Gambia', 'Lesotho', 'Mozambique', 'Swaziland']\n",
            "2019 vs 2017: ['Comoros', 'Gambia', 'Laos', 'Swaziland']\n",
            "2019 vs 2018: ['Comoros', 'Gambia', 'Swaziland']\n"
          ],
          "name": "stdout"
        }
      ]
    },
    {
      "cell_type": "code",
      "metadata": {
        "id": "rQfKg7J47Z6E",
        "colab_type": "code",
        "outputId": "2458974d-cc79-47a4-a7a6-cfc2f0e4f98c",
        "colab": {
          "base_uri": "https://localhost:8080/",
          "height": 68
        }
      },
      "source": [
        "combine_find_unique(check_missing(data_2019, data_2015_updated), check_missing(data_2019, data_2016_updated), \\\n",
        "                   check_missing(data_2019, data_2017_updated), check_missing(data_2019, data_2018))"
      ],
      "execution_count": 0,
      "outputs": [
        {
          "output_type": "execute_result",
          "data": {
            "text/plain": [
              "array(['Central African Republic', 'Comoros', 'Gambia', 'Laos', 'Lesotho',\n",
              "       'Mozambique', 'Namibia', 'Somalia', 'South Sudan', 'Swaziland'],\n",
              "      dtype='<U24')"
            ]
          },
          "metadata": {
            "tags": []
          },
          "execution_count": 23
        }
      ]
    },
    {
      "cell_type": "code",
      "metadata": {
        "id": "Q08HZ8mB7ZPs",
        "colab_type": "code",
        "colab": {}
      },
      "source": [
        "def country_list(data):\n",
        "    \"\"\"\n",
        "    Return all elements from 'Country or region' column\n",
        "    \"\"\"\n",
        "    country_list = []\n",
        "    \n",
        "    for country in data['Country or region']:\n",
        "        country_list.append(country)\n",
        "    \n",
        "    return country_list\n",
        "\n",
        "country_2019 = country_list(data_2019)\n",
        "country_2018 = country_list(data_2018)\n",
        "country_2017 = country_list(data_2017_updated)\n",
        "country_2016 = country_list(data_2016_updated)\n",
        "country_2015 = country_list(data_2015_updated)"
      ],
      "execution_count": 0,
      "outputs": []
    },
    {
      "cell_type": "code",
      "metadata": {
        "id": "pr0qFfqM7kFU",
        "colab_type": "code",
        "outputId": "ec7fe917-0ece-404c-c58a-80b10f5839fc",
        "colab": {
          "base_uri": "https://localhost:8080/",
          "height": 34
        }
      },
      "source": [
        "# Find the countries that are in 2019 data but not in others.\n",
        "data_2019_id = []\n",
        "\n",
        "for country in country_2019:\n",
        "    if country not in country_2018:\n",
        "        data_2019_id.append(data_2019[data_2019['Country or region'] == country].index[0])\n",
        "    if country not in country_2017:\n",
        "        data_2019_id.append(data_2019[data_2019['Country or region'] == country].index[0])\n",
        "    if country not in country_2016:\n",
        "        data_2019_id.append(data_2019[data_2019['Country or region'] == country].index[0])\n",
        "    if country not in country_2015:\n",
        "        data_2019_id.append(data_2019[data_2019['Country or region'] == country].index[0])\n",
        "\n",
        "# Do list(set()) to remove duplicates from array\n",
        "data_2019_id_unique = list(set(data_2019_id))\n",
        "print(data_2019_id_unique)"
      ],
      "execution_count": 0,
      "outputs": [
        {
          "output_type": "stream",
          "text": [
            "[134, 154, 104, 141, 111, 112, 143, 119, 122, 155]\n"
          ],
          "name": "stdout"
        }
      ]
    },
    {
      "cell_type": "code",
      "metadata": {
        "id": "-ERopYzk7j8u",
        "colab_type": "code",
        "colab": {}
      },
      "source": [
        "data_2019_edited = data_2019.drop([134, 154, 104, 141, 111, 112, 143, 119, 122, 155])"
      ],
      "execution_count": 0,
      "outputs": []
    },
    {
      "cell_type": "markdown",
      "metadata": {
        "id": "tA4DpmvE7ovS",
        "colab_type": "text"
      },
      "source": [
        "Similarly, we drop rows from 2015, 2016, 2017, and 2018 data that are not in 2019 data. "
      ]
    },
    {
      "cell_type": "code",
      "metadata": {
        "id": "Thvi28Cp7wEz",
        "colab_type": "code",
        "colab": {}
      },
      "source": [
        "# 2015 data\n",
        "index_2015 = []\n",
        "\n",
        "for val in check_missing(data_2015_updated, data_2019_edited):\n",
        "    row_num = data_2015_updated[data_2015_updated['Country or region'] == val].index[0]\n",
        "    index_2015.append(row_num)\n",
        "\n",
        "data_2015_edited = data_2015_updated.drop(index_2015)"
      ],
      "execution_count": 0,
      "outputs": []
    },
    {
      "cell_type": "code",
      "metadata": {
        "id": "i9wcs4ew7v-9",
        "colab_type": "code",
        "colab": {}
      },
      "source": [
        "# 2016 data\n",
        "index_2016 = []\n",
        "\n",
        "for val in check_missing(data_2016_updated, data_2019_edited):\n",
        "    row_num = data_2016_updated[data_2016_updated['Country or region'] == val].index[0]\n",
        "    index_2016.append(row_num)\n",
        "\n",
        "data_2016_edited = data_2016_updated.drop(index_2016)"
      ],
      "execution_count": 0,
      "outputs": []
    },
    {
      "cell_type": "code",
      "metadata": {
        "id": "BgVTjiNi7v3y",
        "colab_type": "code",
        "colab": {}
      },
      "source": [
        "# 2017 data\n",
        "index_2017 = []\n",
        "\n",
        "for val in check_missing(data_2017_updated, data_2019_edited):\n",
        "    row_num = data_2017_updated[data_2017_updated['Country or region'] == val].index[0]\n",
        "    index_2017.append(row_num)\n",
        "\n",
        "data_2017_edited = data_2017_updated.drop(index_2017)"
      ],
      "execution_count": 0,
      "outputs": []
    },
    {
      "cell_type": "code",
      "metadata": {
        "id": "IFt_XiR67vw-",
        "colab_type": "code",
        "colab": {}
      },
      "source": [
        "# 2018 data\n",
        "index_2018 = []\n",
        "\n",
        "for val in check_missing(data_2018, data_2019_edited):\n",
        "    row_num = data_2018[data_2018['Country or region'] == val].index[0]\n",
        "    index_2018.append(row_num)\n",
        "\n",
        "data_2018_edited = data_2018.drop(index_2018)"
      ],
      "execution_count": 0,
      "outputs": []
    },
    {
      "cell_type": "code",
      "metadata": {
        "id": "AISuJ9ZC7vpv",
        "colab_type": "code",
        "colab": {}
      },
      "source": [
        "# rearrange the index of rows from 0 to 145\n",
        "data_2015_edited.index = range(146)\n",
        "data_2016_edited.index = range(146)\n",
        "data_2017_edited.index = range(146)\n",
        "data_2018_edited.index = range(146)\n",
        "data_2019_edited.index = range(146)"
      ],
      "execution_count": 0,
      "outputs": []
    },
    {
      "cell_type": "markdown",
      "metadata": {
        "id": "tjIOD3Ci78vL",
        "colab_type": "text"
      },
      "source": [
        "The following variables(data) have the same column but have different countries(row):\n",
        "* data_2015_updated\n",
        "* data_2016_updated\n",
        "* data_2017_updated\n",
        "* data_2018\n",
        "* data_2019"
      ]
    },
    {
      "cell_type": "markdown",
      "metadata": {
        "id": "FpjWxodf78is",
        "colab_type": "text"
      },
      "source": [
        "The following data/variables have the same column and the same countries(row):\n",
        "* data_2015_edited\n",
        "* data_2016_edited\n",
        "* data_2017_edited\n",
        "* data_2018_edited\n",
        "* data_2019_edited"
      ]
    }
  ]
}